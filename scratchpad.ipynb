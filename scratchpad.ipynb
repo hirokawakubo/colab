{
  "cells": [
    {
      "cell_type": "markdown",
      "metadata": {
        "id": "view-in-github",
        "colab_type": "text"
      },
      "source": [
        "<a href=\"https://colab.research.google.com/github/hirokawakubo/colab/blob/main/scratchpad.ipynb\" target=\"_parent\"><img src=\"https://colab.research.google.com/assets/colab-badge.svg\" alt=\"Open In Colab\"/></a>"
      ]
    },
    {
      "cell_type": "code",
      "execution_count": null,
      "metadata": {
        "id": "lIYdn1woOS1n"
      },
      "outputs": [],
      "source": [
        "!pip install backtrader\n",
        "!pip install yfinance"
      ]
    },
    {
      "cell_type": "code",
      "source": [
        "from __future__ import (absolute_import, division, print_function, unicode_literals)\n",
        "\n",
        "import backtrader as bt\n",
        "from datetime import datetime\n",
        "import pandas as pd\n",
        "import yfinance as yf"
      ],
      "metadata": {
        "id": "oBZeBkOZBsbw"
      },
      "execution_count": 2,
      "outputs": []
    },
    {
      "cell_type": "code",
      "source": [
        "# Create a Stratey\n",
        "class TestStrategy(bt.Strategy):\n",
        "\n",
        "    def log(self, txt, dt=None):\n",
        "        ''' Logging function for this strategy'''\n",
        "        dt = dt or self.datas[0].datetime.date(0)\n",
        "        print('%s, %s' % (dt.isoformat(), txt))\n",
        "        print('log')\n",
        "\n",
        "    def __init__(self):\n",
        "        # Keep a reference to the \"close\" line in the data[0] dataseries\n",
        "        self.dataclose = self.datas[0].close\n",
        "        print('hello')\n",
        "\n",
        "    def next(self):\n",
        "        # Simply log the closing price of the series from the reference\n",
        "        self.log('Close, %.2f' % self.dataclose[0])"
      ],
      "metadata": {
        "id": "ZnoOP0JtEGIE"
      },
      "execution_count": 24,
      "outputs": []
    },
    {
      "cell_type": "code",
      "source": [
        "if __name__ == '__main__':\n",
        "    cerebro = bt.Cerebro()\n",
        "    cerebro.broker.setcash(100000.0)\n",
        "\n",
        "    df=yf.download('TSLA', '2018-01-01', '2019-01-01')  # get data in pandas dataframe\n",
        "    data = bt.feeds.PandasData(dataname=df)\n",
        "\n",
        "    cerebro.adddata(data)\n",
        "\n",
        "    print('Starting Portfolio Value: %.2f' % cerebro.broker.getvalue())\n",
        "\n",
        "    cerebro.run()\n",
        "\n",
        "    print('Final Portfolio Value: %.2f' % cerebro.broker.getvalue())"
      ],
      "metadata": {
        "id": "5YwSCaMCGx7e",
        "outputId": "42d928a0-deda-4d1f-ecd5-de4bee96bcd0",
        "colab": {
          "base_uri": "https://localhost:8080/"
        }
      },
      "execution_count": 23,
      "outputs": [
        {
          "output_type": "stream",
          "name": "stdout",
          "text": [
            "\r[*********************100%***********************]  1 of 1 completed\n",
            "Starting Portfolio Value: 100000.00\n",
            "Final Portfolio Value: 100000.00\n"
          ]
        }
      ]
    },
    {
      "cell_type": "code",
      "source": [
        "type(df)"
      ],
      "metadata": {
        "id": "bH-_FysKB8mJ",
        "outputId": "69502957-0b31-446b-dca2-ff2cecf54e0c",
        "colab": {
          "base_uri": "https://localhost:8080/"
        }
      },
      "execution_count": 16,
      "outputs": [
        {
          "output_type": "execute_result",
          "data": {
            "text/plain": [
              "pandas.core.frame.DataFrame"
            ]
          },
          "metadata": {},
          "execution_count": 16
        }
      ]
    }
  ],
  "metadata": {
    "colab": {
      "name": "scratchpad",
      "provenance": [],
      "include_colab_link": true
    },
    "kernelspec": {
      "display_name": "Python 3",
      "name": "python3"
    }
  },
  "nbformat": 4,
  "nbformat_minor": 0
}